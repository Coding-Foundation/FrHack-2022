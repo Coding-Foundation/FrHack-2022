{
 "cells": [
  {
   "cell_type": "code",
   "execution_count": 1,
   "id": "f791e7a5-42e1-4ff2-aa1f-4c3436f96e6f",
   "metadata": {},
   "outputs": [
    {
     "ename": "ModuleNotFoundError",
     "evalue": "No module named 'pandas'",
     "output_type": "error",
     "traceback": [
      "\u001b[0;31m---------------------------------------------------------------------------\u001b[0m",
      "\u001b[0;31mModuleNotFoundError\u001b[0m                       Traceback (most recent call last)",
      "Cell \u001b[0;32mIn [1], line 5\u001b[0m\n\u001b[1;32m      3\u001b[0m \u001b[38;5;28;01mfrom\u001b[39;00m \u001b[38;5;21;01mpathlib\u001b[39;00m \u001b[38;5;28;01mimport\u001b[39;00m Path \n\u001b[1;32m      4\u001b[0m \u001b[38;5;28;01mfrom\u001b[39;00m \u001b[38;5;21;01mdatetime\u001b[39;00m \u001b[38;5;28;01mimport\u001b[39;00m datetime, timedelta\n\u001b[0;32m----> 5\u001b[0m \u001b[38;5;28;01mimport\u001b[39;00m \u001b[38;5;21;01mpandas\u001b[39;00m \u001b[38;5;28;01mas\u001b[39;00m \u001b[38;5;21;01mpd\u001b[39;00m\n\u001b[1;32m      6\u001b[0m \u001b[38;5;28;01mimport\u001b[39;00m \u001b[38;5;21;01mnumpy\u001b[39;00m \u001b[38;5;28;01mas\u001b[39;00m \u001b[38;5;21;01mnp\u001b[39;00m\n\u001b[1;32m      7\u001b[0m \u001b[38;5;28;01mfrom\u001b[39;00m \u001b[38;5;21;01mglob\u001b[39;00m \u001b[38;5;28;01mimport\u001b[39;00m glob\n",
      "\u001b[0;31mModuleNotFoundError\u001b[0m: No module named 'pandas'"
     ]
    }
   ],
   "source": [
    "%load_ext autoreload\n",
    "%autoreload 2\n",
    "from pathlib import Path \n",
    "from datetime import datetime, timedelta\n",
    "import pandas as pd\n",
    "import numpy as np\n",
    "from glob import glob\n",
    "import itertools\n",
    "from functools import lru_cache"
   ]
  },
  {
   "cell_type": "code",
   "execution_count": 2,
   "id": "a3f3b669-0f35-4e93-bbcf-bdc860a7e9a6",
   "metadata": {},
   "outputs": [
    {
     "name": "stdout",
     "output_type": "stream",
     "text": [
      "Collecting numpy\n",
      "  Downloading numpy-1.23.4-cp311-cp311-manylinux_2_17_x86_64.manylinux2014_x86_64.whl (17.1 MB)\n",
      "\u001b[2K     \u001b[90m━━━━━━━━━━━━━━━━━━━━━━━━━━━━━━━━━━━━━━━━\u001b[0m \u001b[32m17.1/17.1 MB\u001b[0m \u001b[31m24.9 MB/s\u001b[0m eta \u001b[36m0:00:00\u001b[0m00:01\u001b[0m00:01\u001b[0m\n",
      "\u001b[?25hCollecting pandas\n",
      "  Downloading pandas-1.5.1-cp311-cp311-manylinux_2_17_x86_64.manylinux2014_x86_64.whl (12.0 MB)\n",
      "\u001b[2K     \u001b[90m━━━━━━━━━━━━━━━━━━━━━━━━━━━━━━━━━━━━━━━━\u001b[0m \u001b[32m12.0/12.0 MB\u001b[0m \u001b[31m24.1 MB/s\u001b[0m eta \u001b[36m0:00:00\u001b[0m00:01\u001b[0m00:01\u001b[0m\n",
      "\u001b[?25hRequirement already satisfied: python-dateutil>=2.8.1 in /usr/local/lib/python3.11/site-packages (from pandas) (2.8.2)\n",
      "Requirement already satisfied: pytz>=2020.1 in /usr/local/lib/python3.11/site-packages (from pandas) (2022.6)\n",
      "Requirement already satisfied: six>=1.5 in /usr/local/lib/python3.11/site-packages (from python-dateutil>=2.8.1->pandas) (1.16.0)\n",
      "Installing collected packages: numpy, pandas\n",
      "Successfully installed numpy-1.23.4 pandas-1.5.1\n",
      "\u001b[33mWARNING: Running pip as the 'root' user can result in broken permissions and conflicting behaviour with the system package manager. It is recommended to use a virtual environment instead: https://pip.pypa.io/warnings/venv\u001b[0m\u001b[33m\n",
      "\u001b[0m\n",
      "\u001b[1m[\u001b[0m\u001b[34;49mnotice\u001b[0m\u001b[1;39;49m]\u001b[0m\u001b[39;49m A new release of pip available: \u001b[0m\u001b[31;49m22.3\u001b[0m\u001b[39;49m -> \u001b[0m\u001b[32;49m22.3.1\u001b[0m\n",
      "\u001b[1m[\u001b[0m\u001b[34;49mnotice\u001b[0m\u001b[1;39;49m]\u001b[0m\u001b[39;49m To update, run: \u001b[0m\u001b[32;49mpip install --upgrade pip\u001b[0m\n"
     ]
    }
   ],
   "source": [
    "!pip install numpy pandas"
   ]
  },
  {
   "cell_type": "code",
   "execution_count": 2,
   "id": "34a823d9-9288-403d-ad8a-7846b1ff8589",
   "metadata": {},
   "outputs": [],
   "source": [
    "def pairwise(iterable):\n",
    "    # pairwise('ABCDEFG') --> AB BC CD DE EF FG\n",
    "    a, b = itertools.tee(iterable)\n",
    "    next(b, None)\n",
    "    return zip(a, b)"
   ]
  },
  {
   "cell_type": "code",
   "execution_count": 3,
   "id": "cc097913-54d5-4ecd-b358-008e5b0a7048",
   "metadata": {},
   "outputs": [
    {
     "ename": "FileNotFoundError",
     "evalue": "[Errno 2] No such file or directory: 'Challenge 3 Variation mesures sondes fixes/Mesures_exposition_sondes_autonomes.csv'",
     "output_type": "error",
     "traceback": [
      "\u001b[0;31m---------------------------------------------------------------------------\u001b[0m",
      "\u001b[0;31mFileNotFoundError\u001b[0m                         Traceback (most recent call last)",
      "Cell \u001b[0;32mIn [3], line 4\u001b[0m\n\u001b[1;32m      1\u001b[0m path_data \u001b[38;5;241m=\u001b[39m Path(\u001b[38;5;124mf\u001b[39m\u001b[38;5;124m\"\u001b[39m\u001b[38;5;124m./Challenge 3 Variation mesures sondes fixes\u001b[39m\u001b[38;5;124m\"\u001b[39m)\n\u001b[1;32m      2\u001b[0m network_state_path \u001b[38;5;241m=\u001b[39m path_data \u001b[38;5;241m/\u001b[39m \u001b[38;5;124mf\u001b[39m\u001b[38;5;124m\"\u001b[39m\u001b[38;5;124mEtats reseaux telecoms\u001b[39m\u001b[38;5;124m\"\u001b[39m\n\u001b[0;32m----> 4\u001b[0m measure_df \u001b[38;5;241m=\u001b[39m \u001b[43mpd\u001b[49m\u001b[38;5;241;43m.\u001b[39;49m\u001b[43mread_csv\u001b[49m\u001b[43m(\u001b[49m\u001b[43mpath_data\u001b[49m\u001b[43m \u001b[49m\u001b[38;5;241;43m/\u001b[39;49m\u001b[43m \u001b[49m\u001b[38;5;124;43mf\u001b[39;49m\u001b[38;5;124;43m\"\u001b[39;49m\u001b[38;5;124;43mMesures_exposition_sondes_autonomes.csv\u001b[39;49m\u001b[38;5;124;43m\"\u001b[39;49m\u001b[43m,\u001b[49m\u001b[43m \u001b[49m\u001b[43msep\u001b[49m\u001b[38;5;241;43m=\u001b[39;49m\u001b[38;5;124;43m\"\u001b[39;49m\u001b[38;5;124;43m;\u001b[39;49m\u001b[38;5;124;43m\"\u001b[39;49m\u001b[43m)\u001b[49m\n\u001b[1;32m      5\u001b[0m mse_df \u001b[38;5;241m=\u001b[39m pd\u001b[38;5;241m.\u001b[39mread_csv(path_data \u001b[38;5;241m/\u001b[39m \u001b[38;5;124mf\u001b[39m\u001b[38;5;124m\"\u001b[39m\u001b[38;5;124mDates_mise-en-service_sondes_autonomes.csv\u001b[39m\u001b[38;5;124m\"\u001b[39m, sep\u001b[38;5;241m=\u001b[39m\u001b[38;5;124m\"\u001b[39m\u001b[38;5;124m,\u001b[39m\u001b[38;5;124m\"\u001b[39m)\n",
      "File \u001b[0;32m/usr/local/lib/python3.11/site-packages/pandas/util/_decorators.py:211\u001b[0m, in \u001b[0;36mdeprecate_kwarg.<locals>._deprecate_kwarg.<locals>.wrapper\u001b[0;34m(*args, **kwargs)\u001b[0m\n\u001b[1;32m    209\u001b[0m     \u001b[38;5;28;01melse\u001b[39;00m:\n\u001b[1;32m    210\u001b[0m         kwargs[new_arg_name] \u001b[38;5;241m=\u001b[39m new_arg_value\n\u001b[0;32m--> 211\u001b[0m \u001b[38;5;28;01mreturn\u001b[39;00m \u001b[43mfunc\u001b[49m\u001b[43m(\u001b[49m\u001b[38;5;241;43m*\u001b[39;49m\u001b[43margs\u001b[49m\u001b[43m,\u001b[49m\u001b[43m \u001b[49m\u001b[38;5;241;43m*\u001b[39;49m\u001b[38;5;241;43m*\u001b[39;49m\u001b[43mkwargs\u001b[49m\u001b[43m)\u001b[49m\n",
      "File \u001b[0;32m/usr/local/lib/python3.11/site-packages/pandas/util/_decorators.py:331\u001b[0m, in \u001b[0;36mdeprecate_nonkeyword_arguments.<locals>.decorate.<locals>.wrapper\u001b[0;34m(*args, **kwargs)\u001b[0m\n\u001b[1;32m    325\u001b[0m \u001b[38;5;28;01mif\u001b[39;00m \u001b[38;5;28mlen\u001b[39m(args) \u001b[38;5;241m>\u001b[39m num_allow_args:\n\u001b[1;32m    326\u001b[0m     warnings\u001b[38;5;241m.\u001b[39mwarn(\n\u001b[1;32m    327\u001b[0m         msg\u001b[38;5;241m.\u001b[39mformat(arguments\u001b[38;5;241m=\u001b[39m_format_argument_list(allow_args)),\n\u001b[1;32m    328\u001b[0m         \u001b[38;5;167;01mFutureWarning\u001b[39;00m,\n\u001b[1;32m    329\u001b[0m         stacklevel\u001b[38;5;241m=\u001b[39mfind_stack_level(),\n\u001b[1;32m    330\u001b[0m     )\n\u001b[0;32m--> 331\u001b[0m \u001b[38;5;28;01mreturn\u001b[39;00m \u001b[43mfunc\u001b[49m\u001b[43m(\u001b[49m\u001b[38;5;241;43m*\u001b[39;49m\u001b[43margs\u001b[49m\u001b[43m,\u001b[49m\u001b[43m \u001b[49m\u001b[38;5;241;43m*\u001b[39;49m\u001b[38;5;241;43m*\u001b[39;49m\u001b[43mkwargs\u001b[49m\u001b[43m)\u001b[49m\n",
      "File \u001b[0;32m/usr/local/lib/python3.11/site-packages/pandas/io/parsers/readers.py:950\u001b[0m, in \u001b[0;36mread_csv\u001b[0;34m(filepath_or_buffer, sep, delimiter, header, names, index_col, usecols, squeeze, prefix, mangle_dupe_cols, dtype, engine, converters, true_values, false_values, skipinitialspace, skiprows, skipfooter, nrows, na_values, keep_default_na, na_filter, verbose, skip_blank_lines, parse_dates, infer_datetime_format, keep_date_col, date_parser, dayfirst, cache_dates, iterator, chunksize, compression, thousands, decimal, lineterminator, quotechar, quoting, doublequote, escapechar, comment, encoding, encoding_errors, dialect, error_bad_lines, warn_bad_lines, on_bad_lines, delim_whitespace, low_memory, memory_map, float_precision, storage_options)\u001b[0m\n\u001b[1;32m    935\u001b[0m kwds_defaults \u001b[38;5;241m=\u001b[39m _refine_defaults_read(\n\u001b[1;32m    936\u001b[0m     dialect,\n\u001b[1;32m    937\u001b[0m     delimiter,\n\u001b[0;32m   (...)\u001b[0m\n\u001b[1;32m    946\u001b[0m     defaults\u001b[38;5;241m=\u001b[39m{\u001b[38;5;124m\"\u001b[39m\u001b[38;5;124mdelimiter\u001b[39m\u001b[38;5;124m\"\u001b[39m: \u001b[38;5;124m\"\u001b[39m\u001b[38;5;124m,\u001b[39m\u001b[38;5;124m\"\u001b[39m},\n\u001b[1;32m    947\u001b[0m )\n\u001b[1;32m    948\u001b[0m kwds\u001b[38;5;241m.\u001b[39mupdate(kwds_defaults)\n\u001b[0;32m--> 950\u001b[0m \u001b[38;5;28;01mreturn\u001b[39;00m \u001b[43m_read\u001b[49m\u001b[43m(\u001b[49m\u001b[43mfilepath_or_buffer\u001b[49m\u001b[43m,\u001b[49m\u001b[43m \u001b[49m\u001b[43mkwds\u001b[49m\u001b[43m)\u001b[49m\n",
      "File \u001b[0;32m/usr/local/lib/python3.11/site-packages/pandas/io/parsers/readers.py:605\u001b[0m, in \u001b[0;36m_read\u001b[0;34m(filepath_or_buffer, kwds)\u001b[0m\n\u001b[1;32m    602\u001b[0m _validate_names(kwds\u001b[38;5;241m.\u001b[39mget(\u001b[38;5;124m\"\u001b[39m\u001b[38;5;124mnames\u001b[39m\u001b[38;5;124m\"\u001b[39m, \u001b[38;5;28;01mNone\u001b[39;00m))\n\u001b[1;32m    604\u001b[0m \u001b[38;5;66;03m# Create the parser.\u001b[39;00m\n\u001b[0;32m--> 605\u001b[0m parser \u001b[38;5;241m=\u001b[39m \u001b[43mTextFileReader\u001b[49m\u001b[43m(\u001b[49m\u001b[43mfilepath_or_buffer\u001b[49m\u001b[43m,\u001b[49m\u001b[43m \u001b[49m\u001b[38;5;241;43m*\u001b[39;49m\u001b[38;5;241;43m*\u001b[39;49m\u001b[43mkwds\u001b[49m\u001b[43m)\u001b[49m\n\u001b[1;32m    607\u001b[0m \u001b[38;5;28;01mif\u001b[39;00m chunksize \u001b[38;5;129;01mor\u001b[39;00m iterator:\n\u001b[1;32m    608\u001b[0m     \u001b[38;5;28;01mreturn\u001b[39;00m parser\n",
      "File \u001b[0;32m/usr/local/lib/python3.11/site-packages/pandas/io/parsers/readers.py:1442\u001b[0m, in \u001b[0;36mTextFileReader.__init__\u001b[0;34m(self, f, engine, **kwds)\u001b[0m\n\u001b[1;32m   1439\u001b[0m     \u001b[38;5;28mself\u001b[39m\u001b[38;5;241m.\u001b[39moptions[\u001b[38;5;124m\"\u001b[39m\u001b[38;5;124mhas_index_names\u001b[39m\u001b[38;5;124m\"\u001b[39m] \u001b[38;5;241m=\u001b[39m kwds[\u001b[38;5;124m\"\u001b[39m\u001b[38;5;124mhas_index_names\u001b[39m\u001b[38;5;124m\"\u001b[39m]\n\u001b[1;32m   1441\u001b[0m \u001b[38;5;28mself\u001b[39m\u001b[38;5;241m.\u001b[39mhandles: IOHandles \u001b[38;5;241m|\u001b[39m \u001b[38;5;28;01mNone\u001b[39;00m \u001b[38;5;241m=\u001b[39m \u001b[38;5;28;01mNone\u001b[39;00m\n\u001b[0;32m-> 1442\u001b[0m \u001b[38;5;28mself\u001b[39m\u001b[38;5;241m.\u001b[39m_engine \u001b[38;5;241m=\u001b[39m \u001b[38;5;28;43mself\u001b[39;49m\u001b[38;5;241;43m.\u001b[39;49m\u001b[43m_make_engine\u001b[49m\u001b[43m(\u001b[49m\u001b[43mf\u001b[49m\u001b[43m,\u001b[49m\u001b[43m \u001b[49m\u001b[38;5;28;43mself\u001b[39;49m\u001b[38;5;241;43m.\u001b[39;49m\u001b[43mengine\u001b[49m\u001b[43m)\u001b[49m\n",
      "File \u001b[0;32m/usr/local/lib/python3.11/site-packages/pandas/io/parsers/readers.py:1735\u001b[0m, in \u001b[0;36mTextFileReader._make_engine\u001b[0;34m(self, f, engine)\u001b[0m\n\u001b[1;32m   1733\u001b[0m     \u001b[38;5;28;01mif\u001b[39;00m \u001b[38;5;124m\"\u001b[39m\u001b[38;5;124mb\u001b[39m\u001b[38;5;124m\"\u001b[39m \u001b[38;5;129;01mnot\u001b[39;00m \u001b[38;5;129;01min\u001b[39;00m mode:\n\u001b[1;32m   1734\u001b[0m         mode \u001b[38;5;241m+\u001b[39m\u001b[38;5;241m=\u001b[39m \u001b[38;5;124m\"\u001b[39m\u001b[38;5;124mb\u001b[39m\u001b[38;5;124m\"\u001b[39m\n\u001b[0;32m-> 1735\u001b[0m \u001b[38;5;28mself\u001b[39m\u001b[38;5;241m.\u001b[39mhandles \u001b[38;5;241m=\u001b[39m \u001b[43mget_handle\u001b[49m\u001b[43m(\u001b[49m\n\u001b[1;32m   1736\u001b[0m \u001b[43m    \u001b[49m\u001b[43mf\u001b[49m\u001b[43m,\u001b[49m\n\u001b[1;32m   1737\u001b[0m \u001b[43m    \u001b[49m\u001b[43mmode\u001b[49m\u001b[43m,\u001b[49m\n\u001b[1;32m   1738\u001b[0m \u001b[43m    \u001b[49m\u001b[43mencoding\u001b[49m\u001b[38;5;241;43m=\u001b[39;49m\u001b[38;5;28;43mself\u001b[39;49m\u001b[38;5;241;43m.\u001b[39;49m\u001b[43moptions\u001b[49m\u001b[38;5;241;43m.\u001b[39;49m\u001b[43mget\u001b[49m\u001b[43m(\u001b[49m\u001b[38;5;124;43m\"\u001b[39;49m\u001b[38;5;124;43mencoding\u001b[39;49m\u001b[38;5;124;43m\"\u001b[39;49m\u001b[43m,\u001b[49m\u001b[43m \u001b[49m\u001b[38;5;28;43;01mNone\u001b[39;49;00m\u001b[43m)\u001b[49m\u001b[43m,\u001b[49m\n\u001b[1;32m   1739\u001b[0m \u001b[43m    \u001b[49m\u001b[43mcompression\u001b[49m\u001b[38;5;241;43m=\u001b[39;49m\u001b[38;5;28;43mself\u001b[39;49m\u001b[38;5;241;43m.\u001b[39;49m\u001b[43moptions\u001b[49m\u001b[38;5;241;43m.\u001b[39;49m\u001b[43mget\u001b[49m\u001b[43m(\u001b[49m\u001b[38;5;124;43m\"\u001b[39;49m\u001b[38;5;124;43mcompression\u001b[39;49m\u001b[38;5;124;43m\"\u001b[39;49m\u001b[43m,\u001b[49m\u001b[43m \u001b[49m\u001b[38;5;28;43;01mNone\u001b[39;49;00m\u001b[43m)\u001b[49m\u001b[43m,\u001b[49m\n\u001b[1;32m   1740\u001b[0m \u001b[43m    \u001b[49m\u001b[43mmemory_map\u001b[49m\u001b[38;5;241;43m=\u001b[39;49m\u001b[38;5;28;43mself\u001b[39;49m\u001b[38;5;241;43m.\u001b[39;49m\u001b[43moptions\u001b[49m\u001b[38;5;241;43m.\u001b[39;49m\u001b[43mget\u001b[49m\u001b[43m(\u001b[49m\u001b[38;5;124;43m\"\u001b[39;49m\u001b[38;5;124;43mmemory_map\u001b[39;49m\u001b[38;5;124;43m\"\u001b[39;49m\u001b[43m,\u001b[49m\u001b[43m \u001b[49m\u001b[38;5;28;43;01mFalse\u001b[39;49;00m\u001b[43m)\u001b[49m\u001b[43m,\u001b[49m\n\u001b[1;32m   1741\u001b[0m \u001b[43m    \u001b[49m\u001b[43mis_text\u001b[49m\u001b[38;5;241;43m=\u001b[39;49m\u001b[43mis_text\u001b[49m\u001b[43m,\u001b[49m\n\u001b[1;32m   1742\u001b[0m \u001b[43m    \u001b[49m\u001b[43merrors\u001b[49m\u001b[38;5;241;43m=\u001b[39;49m\u001b[38;5;28;43mself\u001b[39;49m\u001b[38;5;241;43m.\u001b[39;49m\u001b[43moptions\u001b[49m\u001b[38;5;241;43m.\u001b[39;49m\u001b[43mget\u001b[49m\u001b[43m(\u001b[49m\u001b[38;5;124;43m\"\u001b[39;49m\u001b[38;5;124;43mencoding_errors\u001b[39;49m\u001b[38;5;124;43m\"\u001b[39;49m\u001b[43m,\u001b[49m\u001b[43m \u001b[49m\u001b[38;5;124;43m\"\u001b[39;49m\u001b[38;5;124;43mstrict\u001b[39;49m\u001b[38;5;124;43m\"\u001b[39;49m\u001b[43m)\u001b[49m\u001b[43m,\u001b[49m\n\u001b[1;32m   1743\u001b[0m \u001b[43m    \u001b[49m\u001b[43mstorage_options\u001b[49m\u001b[38;5;241;43m=\u001b[39;49m\u001b[38;5;28;43mself\u001b[39;49m\u001b[38;5;241;43m.\u001b[39;49m\u001b[43moptions\u001b[49m\u001b[38;5;241;43m.\u001b[39;49m\u001b[43mget\u001b[49m\u001b[43m(\u001b[49m\u001b[38;5;124;43m\"\u001b[39;49m\u001b[38;5;124;43mstorage_options\u001b[39;49m\u001b[38;5;124;43m\"\u001b[39;49m\u001b[43m,\u001b[49m\u001b[43m \u001b[49m\u001b[38;5;28;43;01mNone\u001b[39;49;00m\u001b[43m)\u001b[49m\u001b[43m,\u001b[49m\n\u001b[1;32m   1744\u001b[0m \u001b[43m\u001b[49m\u001b[43m)\u001b[49m\n\u001b[1;32m   1745\u001b[0m \u001b[38;5;28;01massert\u001b[39;00m \u001b[38;5;28mself\u001b[39m\u001b[38;5;241m.\u001b[39mhandles \u001b[38;5;129;01mis\u001b[39;00m \u001b[38;5;129;01mnot\u001b[39;00m \u001b[38;5;28;01mNone\u001b[39;00m\n\u001b[1;32m   1746\u001b[0m f \u001b[38;5;241m=\u001b[39m \u001b[38;5;28mself\u001b[39m\u001b[38;5;241m.\u001b[39mhandles\u001b[38;5;241m.\u001b[39mhandle\n",
      "File \u001b[0;32m/usr/local/lib/python3.11/site-packages/pandas/io/common.py:856\u001b[0m, in \u001b[0;36mget_handle\u001b[0;34m(path_or_buf, mode, encoding, compression, memory_map, is_text, errors, storage_options)\u001b[0m\n\u001b[1;32m    851\u001b[0m \u001b[38;5;28;01melif\u001b[39;00m \u001b[38;5;28misinstance\u001b[39m(handle, \u001b[38;5;28mstr\u001b[39m):\n\u001b[1;32m    852\u001b[0m     \u001b[38;5;66;03m# Check whether the filename is to be opened in binary mode.\u001b[39;00m\n\u001b[1;32m    853\u001b[0m     \u001b[38;5;66;03m# Binary mode does not support 'encoding' and 'newline'.\u001b[39;00m\n\u001b[1;32m    854\u001b[0m     \u001b[38;5;28;01mif\u001b[39;00m ioargs\u001b[38;5;241m.\u001b[39mencoding \u001b[38;5;129;01mand\u001b[39;00m \u001b[38;5;124m\"\u001b[39m\u001b[38;5;124mb\u001b[39m\u001b[38;5;124m\"\u001b[39m \u001b[38;5;129;01mnot\u001b[39;00m \u001b[38;5;129;01min\u001b[39;00m ioargs\u001b[38;5;241m.\u001b[39mmode:\n\u001b[1;32m    855\u001b[0m         \u001b[38;5;66;03m# Encoding\u001b[39;00m\n\u001b[0;32m--> 856\u001b[0m         handle \u001b[38;5;241m=\u001b[39m \u001b[38;5;28;43mopen\u001b[39;49m\u001b[43m(\u001b[49m\n\u001b[1;32m    857\u001b[0m \u001b[43m            \u001b[49m\u001b[43mhandle\u001b[49m\u001b[43m,\u001b[49m\n\u001b[1;32m    858\u001b[0m \u001b[43m            \u001b[49m\u001b[43mioargs\u001b[49m\u001b[38;5;241;43m.\u001b[39;49m\u001b[43mmode\u001b[49m\u001b[43m,\u001b[49m\n\u001b[1;32m    859\u001b[0m \u001b[43m            \u001b[49m\u001b[43mencoding\u001b[49m\u001b[38;5;241;43m=\u001b[39;49m\u001b[43mioargs\u001b[49m\u001b[38;5;241;43m.\u001b[39;49m\u001b[43mencoding\u001b[49m\u001b[43m,\u001b[49m\n\u001b[1;32m    860\u001b[0m \u001b[43m            \u001b[49m\u001b[43merrors\u001b[49m\u001b[38;5;241;43m=\u001b[39;49m\u001b[43merrors\u001b[49m\u001b[43m,\u001b[49m\n\u001b[1;32m    861\u001b[0m \u001b[43m            \u001b[49m\u001b[43mnewline\u001b[49m\u001b[38;5;241;43m=\u001b[39;49m\u001b[38;5;124;43m\"\u001b[39;49m\u001b[38;5;124;43m\"\u001b[39;49m\u001b[43m,\u001b[49m\n\u001b[1;32m    862\u001b[0m \u001b[43m        \u001b[49m\u001b[43m)\u001b[49m\n\u001b[1;32m    863\u001b[0m     \u001b[38;5;28;01melse\u001b[39;00m:\n\u001b[1;32m    864\u001b[0m         \u001b[38;5;66;03m# Binary mode\u001b[39;00m\n\u001b[1;32m    865\u001b[0m         handle \u001b[38;5;241m=\u001b[39m \u001b[38;5;28mopen\u001b[39m(handle, ioargs\u001b[38;5;241m.\u001b[39mmode)\n",
      "\u001b[0;31mFileNotFoundError\u001b[0m: [Errno 2] No such file or directory: 'Challenge 3 Variation mesures sondes fixes/Mesures_exposition_sondes_autonomes.csv'"
     ]
    }
   ],
   "source": [
    "path_data = Path(f\"./Challenge 3 Variation mesures sondes fixes\")\n",
    "network_state_path = path_data / f\"Etats reseaux telecoms\"\n",
    "\n",
    "measure_df = pd.read_csv(path_data / f\"Mesures_exposition_sondes_autonomes.csv\", sep=\";\")\n",
    "mse_df = pd.read_csv(path_data / f\"Dates_mise-en-service_sondes_autonomes.csv\", sep=\",\")"
   ]
  },
  {
   "cell_type": "code",
   "execution_count": null,
   "id": "94c82d99-ddd5-44fc-9cd4-d164700d36b4",
   "metadata": {},
   "outputs": [],
   "source": [
    "measure_df[\"date\"]"
   ]
  },
  {
   "cell_type": "markdown",
   "id": "a7a76f05-15e5-4410-b32c-83c9a0cde89b",
   "metadata": {},
   "source": [
    "# Enrichissement de `measure_df`"
   ]
  },
  {
   "cell_type": "code",
   "execution_count": null,
   "id": "5e41a509-90f8-4937-959f-450c973f18a0",
   "metadata": {},
   "outputs": [],
   "source": [
    "measure_df[\"datetime\"] = [datetime.strptime(d, \"%d/%m/%Y %H:%M\") for d in measure_df[\"date\"]]\n",
    "measure_df[\"weekday\"] = [f.weekday() for f in measure_df[\"datetime\"]]\n",
    "measure_df[\"month\"] = [f.month for f in measure_df[\"datetime\"]]\n",
    "measure_df[\"day\"] = [f.day for f in measure_df[\"datetime\"]]\n",
    "measure_df[\"hour\"] = [f.hour for f in measure_df[\"datetime\"]]"
   ]
  },
  {
   "cell_type": "code",
   "execution_count": null,
   "id": "6563680e-dc1b-477e-8592-3209dd6ab9ef",
   "metadata": {},
   "outputs": [],
   "source": [
    "measure_df"
   ]
  },
  {
   "cell_type": "code",
   "execution_count": null,
   "id": "efa24473-763a-4240-994e-be06c6fc231c",
   "metadata": {},
   "outputs": [],
   "source": [
    "network_state_dict = {}\n",
    "for path in network_state_path.glob(\"*.csv\"):\n",
    "    date = path.name.split(\"_Etat reseaux.csv\")[0]\n",
    "    network_state_dict[date] = pd.read_csv(path.absolute(), sep=\";\")"
   ]
  },
  {
   "cell_type": "code",
   "execution_count": null,
   "id": "a8eade34-995a-4425-a03c-b554071e405f",
   "metadata": {},
   "outputs": [],
   "source": [
    "print(f\"les dates disponibles : {tuple(network_state_dict.keys())}\")"
   ]
  },
  {
   "cell_type": "code",
   "execution_count": null,
   "id": "0fc1b6d6-ae00-4def-b126-badd3bf2dfbd",
   "metadata": {},
   "outputs": [],
   "source": [
    "network_state_dict[\"2020_03_31\"]"
   ]
  },
  {
   "cell_type": "markdown",
   "id": "5459efa5-be06-4758-b4b6-fa55e1a4fed8",
   "metadata": {},
   "source": [
    "# Afficher une sonde"
   ]
  },
  {
   "cell_type": "code",
   "execution_count": null,
   "id": "bc369add-90eb-457c-a29c-bbdedde49671",
   "metadata": {},
   "outputs": [],
   "source": [
    "sonde = f\"Marseille_{1:0>2}\""
   ]
  },
  {
   "cell_type": "code",
   "execution_count": null,
   "id": "4cadfd87-d312-43bb-a834-b0456caedc95",
   "metadata": {},
   "outputs": [],
   "source": [
    "measure_df"
   ]
  },
  {
   "cell_type": "code",
   "execution_count": null,
   "id": "81b24048-99c0-461c-a650-280f7aa0b18d",
   "metadata": {},
   "outputs": [],
   "source": [
    "measure_df[measure_df[\"numero\"]==sonde]"
   ]
  },
  {
   "cell_type": "code",
   "execution_count": null,
   "id": "2627bbec-a443-487b-9d10-3288da952460",
   "metadata": {},
   "outputs": [],
   "source": [
    "timestamps = measure_df[\"date\"]\n",
    "print(len(timestamps))\n",
    "print(len(set(timestamps)))\n",
    "print(len(timestamps))\n"
   ]
  },
  {
   "cell_type": "code",
   "execution_count": null,
   "id": "35d0f651-aaa7-4734-b4e4-04ff39944286",
   "metadata": {},
   "outputs": [],
   "source": [
    "import matplotlib.pyplot as plt\n",
    "plt.figure(figsize=(10, 8))\n",
    "DF = pd.DataFrame()\n",
    "DF['value'] = measure_df[measure_df[\"numero\"]==sonde][\"E_volt_par_metre\"]\n",
    "DF = DF.set_index(measure_df[measure_df[\"numero\"]==sonde][\"datetime\"])\n",
    "plt.plot(DF, 'r+')\n",
    "plt.gcf().autofmt_xdate()\n",
    "plt.show()"
   ]
  },
  {
   "cell_type": "code",
   "execution_count": null,
   "id": "e4d016d0-ff44-4e83-b372-b8dc75c7c14b",
   "metadata": {},
   "outputs": [],
   "source": []
  },
  {
   "cell_type": "code",
   "execution_count": null,
   "id": "cb4f6b94-0864-4acf-80d4-b6a422071e32",
   "metadata": {},
   "outputs": [],
   "source": [
    "dt = measure_df[measure_df[\"numero\"]==sonde][\"datetime\"][0]\n",
    "dt.weekday()"
   ]
  },
  {
   "cell_type": "code",
   "execution_count": null,
   "id": "4615bc45-36e6-4a9f-8be7-85991ef17606",
   "metadata": {},
   "outputs": [],
   "source": [
    "measure_df[\"weekday\"]==2"
   ]
  },
  {
   "cell_type": "code",
   "execution_count": null,
   "id": "c47b11d8-5e2d-43b7-88c8-0c44e8f8afe5",
   "metadata": {},
   "outputs": [],
   "source": [
    "((measure_df[\"numero\"]==sonde) & (measure_df[\"weekday\"]==2)).sum()"
   ]
  },
  {
   "cell_type": "code",
   "execution_count": null,
   "id": "11163379-bb32-4c14-a925-35e258e17f51",
   "metadata": {},
   "outputs": [],
   "source": [
    "measure_df[(measure_df[\"numero\"]==sonde) & (measure_df[\"weekday\"]==2)]"
   ]
  },
  {
   "cell_type": "code",
   "execution_count": null,
   "id": "ca611c65-bec8-42eb-8f1c-4e3a703c92fb",
   "metadata": {},
   "outputs": [],
   "source": [
    "xrange = tuple(range(7))\n",
    "res = []\n",
    "for x in xrange:\n",
    "    res.append(measure_df[(measure_df[\"numero\"]==sonde) & (measure_df[\"weekday\"]==x)][\"E_volt_par_metre\"].mean())\n",
    "plt.plot(xrange, res, \"r+\")\n",
    "plt.title(f\"evolution sonde {sonde} en fonction jour de la semaine\")"
   ]
  },
  {
   "cell_type": "code",
   "execution_count": null,
   "id": "1e1cd2d5-c2b7-4f9a-bf17-15e45fbeefc8",
   "metadata": {},
   "outputs": [],
   "source": [
    "xrange = tuple(range(7))\n",
    "res = []\n",
    "for x in xrange:\n",
    "    res.append(measure_df[(measure_df[\"weekday\"]==x)][\"E_volt_par_metre\"].mean())\n",
    "plt.plot(xrange, res, \"r+\")\n",
    "plt.title(f\"evolution moyenne toutes les sondes en fonction jour de la semaine\")"
   ]
  },
  {
   "cell_type": "code",
   "execution_count": null,
   "id": "3add1979-a044-4a6f-ae86-2c13a7382649",
   "metadata": {},
   "outputs": [],
   "source": [
    "plt.title(f\"Evolution moyenne sonde {sonde} sur les mois\")\n",
    "xrange=np.sort(measure_df[\"month\"].unique()) # == range(1, 13)\n",
    "plt.plot(xrange, [measure_df[(measure_df[\"numero\"]==sonde) & (measure_df[\"month\"]==x)][\"E_volt_par_metre\"].mean() for x in xrange], \"r+\")"
   ]
  },
  {
   "cell_type": "code",
   "execution_count": null,
   "id": "6610c182-e981-4d05-9273-ab94e4b43a85",
   "metadata": {},
   "outputs": [],
   "source": [
    "plt.title(f\"Evolution moyenne de toutes les sondes sur les mois\")\n",
    "xrange=np.sort(measure_df[\"month\"].unique()) # == range(1, 13)\n",
    "plt.plot(xrange, [measure_df[(measure_df[\"month\"]==x)][\"E_volt_par_metre\"].mean() for x in xrange], \"r+\")"
   ]
  },
  {
   "cell_type": "code",
   "execution_count": null,
   "id": "0e847955-2a8e-47c8-a3ec-e1b9ac827ed0",
   "metadata": {},
   "outputs": [],
   "source": [
    "plt.title(f\"Evolution moyenne sonde {sonde} sur les jours de la semaines\")\n",
    "xrange=np.sort(measure_df[\"day\"].unique()) # == range(1, 31 + 1)\n",
    "plt.plot(xrange, [measure_df[(measure_df[\"numero\"]==sonde) & (measure_df[\"day\"]==x)][\"E_volt_par_metre\"].mean() for x in xrange], \"r+\")"
   ]
  },
  {
   "cell_type": "code",
   "execution_count": null,
   "id": "e89be45e-6558-4fcd-b51a-57c12b2d0232",
   "metadata": {},
   "outputs": [],
   "source": [
    "plt.title(f\"Evolution moyenne de toutes les sondes sur les jours de la semaines\")\n",
    "xrange=np.sort(measure_df[\"day\"].unique()) # == range(1, 31 + 1)\n",
    "plt.plot(xrange, [measure_df[(measure_df[\"day\"]==x)][\"E_volt_par_metre\"].mean() for x in xrange], \"r+\")"
   ]
  },
  {
   "cell_type": "code",
   "execution_count": null,
   "id": "8f573f2b-079d-47cb-9ee3-7d43382636c6",
   "metadata": {},
   "outputs": [],
   "source": [
    "plt.title(f\"Evolution moyenne sonde {sonde} sur les heures paires des jours\")\n",
    "xrange = tuple(range(0, 24, 2))\n",
    "plt.plot(xrange, [measure_df[(measure_df[\"numero\"]==sonde) & (measure_df[\"hour\"]==x)][\"E_volt_par_metre\"].mean() for x in xrange], \"r+\")\n",
    "plt.show()\n",
    "plt.title(f\"Evolution moyenne de toutes les sondes sur les heures paires des jours\")\n",
    "plt.plot(xrange, [measure_df[(measure_df[\"hour\"]==x)][\"E_volt_par_metre\"].mean() for x in xrange], \"r+\")"
   ]
  },
  {
   "cell_type": "code",
   "execution_count": null,
   "id": "2570c1a4-c39e-4d6f-b6c8-eace262c364a",
   "metadata": {},
   "outputs": [],
   "source": [
    "xrange, np.sort(measure_df[\"hour\"].unique()) "
   ]
  },
  {
   "cell_type": "code",
   "execution_count": null,
   "id": "fe64aae4-7b1c-47b9-a0e5-d50227ca32d4",
   "metadata": {},
   "outputs": [],
   "source": [
    "from itertools import zip_longest\n",
    "\n",
    "def grouper(iterable, n, fillvalue=None):\n",
    "    \"\"\"Collect data into fixed-length chunks or blocks.\n",
    "\n",
    "    >>> grouper('ABCDEFG', 3, 'x')\n",
    "    ['ABC', 'DEF', 'Gxx']\n",
    "    \"\"\"\n",
    "    args = [iter(iterable)] * n\n",
    "    return zip_longest(*args, fillvalue=fillvalue)"
   ]
  },
  {
   "cell_type": "code",
   "execution_count": null,
   "id": "881ce2d5-7651-430c-94bf-e151d8e78221",
   "metadata": {},
   "outputs": [],
   "source": [
    "tuple(grouper(range(24), 2))"
   ]
  },
  {
   "cell_type": "code",
   "execution_count": null,
   "id": "d0e45538-e8d2-4a53-84ee-fd1758500355",
   "metadata": {},
   "outputs": [],
   "source": [
    "plt.title(f\"Evolution moyenne sonde {sonde} sur les heures des jours (groupées par 2)\")\n",
    "bins = tuple(grouper(range(24), 2))\n",
    "xrange = range(len(bins))\n",
    "plt.plot(xrange, [measure_df[(measure_df[\"numero\"]==sonde) & ((measure_df[\"hour\"]==bin_[0]) | (measure_df[\"hour\"]==bin_[1]))][\"E_volt_par_metre\"].mean() for bin_ in bins], \"r+\")\n",
    "plt.show()\n",
    "plt.title(f\"Evolution moyenne de toutes les sondes sur les heures paires des jours (groupées par 2)\")\n",
    "plt.plot(xrange, [measure_df[((measure_df[\"hour\"]==bin_[0]) | (measure_df[\"hour\"]==bin_[1]))][\"E_volt_par_metre\"].mean() for bin_ in bins], \"r+\")\n",
    "plt.xlabel()"
   ]
  },
  {
   "cell_type": "code",
   "execution_count": null,
   "id": "92672ca3-53ef-4be7-9818-dfce891758da",
   "metadata": {},
   "outputs": [],
   "source": [
    "plt.figure(figsize=(15, 4))\n",
    "plt.title(f\"Evolution sur l'année au jour près pour la sonde {sonde}\")\n",
    "xrange = tuple(range(365*12))\n",
    "@lru_cache(maxsize=128)\n",
    "def getDayMonthFromidx(idx:int):\n",
    "    datetime_ = datetime(2020, 1, 1) + idx * timedelta(hours=24) #idx indique le jour de l'année\n",
    "    return datetime_.day, datetime_.month\n",
    "day_month = [getDayMonthFromidx(i) for i in xrange]\n",
    "plt.plot(xrange, [measure_df[(measure_df[\"numero\"]==sonde) & (measure_df[\"month\"]==month) & (measure_df[\"day\"]==day)][\"E_volt_par_metre\"].mean() for day, month in day_month], \"r+\")\n",
    "plt.show()\n",
    "plt.title(f\"Evolution moyenne de toutes les sondes sur les heures paires des jours\")\n",
    "plt.plot(xrange, [measure_df[(measure_df[\"month\"]==month) & (measure_df[\"day\"]==day)][\"E_volt_par_metre\"].mean() for day, month in day_month], \"r+\")"
   ]
  },
  {
   "cell_type": "code",
   "execution_count": null,
   "id": "5d8ec4ca-0b9e-44e0-b149-30259cf3b6d0",
   "metadata": {},
   "outputs": [],
   "source": [
    "plt.figure(figsize=(15, 4))\n",
    "plt.title(f\"Evolution sur l'année au jour près pour la sonde {sonde}\")\n",
    "xrange = tuple(range(365*12))\n",
    "@lru_cache(maxsize=128)\n",
    "def getDayMonthFromidx(idx:int):\n",
    "    datetime_ = datetime(2020, 1, 1) + idx * timedelta(hours=24) #idx indique le jour de l'année\n",
    "    return datetime_.day, datetime_.month\n",
    "day_month = [getDayMonthFromidx(i) for i in xrange]\n",
    "plt.plot(xrange, [measure_df[(measure_df[\"numero\"]==sonde) & (measure_df[\"month\"]==month) & (measure_df[\"day\"]==day)][\"E_volt_par_metre\"].mean() for day, month in day_month], \"r+\")\n",
    "plt.show()\n",
    "plt.title(f\"Evolution moyenne de toutes les sondes sur les heures paires des jours\")\n",
    "plt.plot(xrange, [measure_df[(measure_df[\"month\"]==month) & (measure_df[\"day\"]==day)][\"E_volt_par_metre\"].mean() for day, month in day_month], \"r+\")"
   ]
  },
  {
   "cell_type": "code",
   "execution_count": null,
   "id": "af5420c4-b86a-476c-b400-e9eb18e69385",
   "metadata": {},
   "outputs": [],
   "source": [
    "measure_df"
   ]
  },
  {
   "cell_type": "code",
   "execution_count": null,
   "id": "57766d3b-2aaa-43d1-a7a3-d900abf8c6d1",
   "metadata": {},
   "outputs": [],
   "source": [
    "# network_state_df = "
   ]
  },
  {
   "cell_type": "code",
   "execution_count": null,
   "id": "69458bbd-d07c-45b8-bba5-0b601ae9ea03",
   "metadata": {},
   "outputs": [],
   "source": [
    "dfs = []\n",
    "for date, df in network_state_dict.items():\n",
    "    df[\"date\"] = date\n",
    "    dfs.append(df)\n",
    "network_state_df = pd.concat(dfs)\n",
    "network_state_df.head()"
   ]
  },
  {
   "cell_type": "code",
   "execution_count": null,
   "id": "f491405b-d5e2-47a8-be7b-e4af3c09875b",
   "metadata": {},
   "outputs": [],
   "source": [
    "antennas = list(set(network_state_df[\"EMETTEUR ID\"]))\n",
    "print(len(antennas), \"émetteurs distincts\")\n",
    "\n",
    "sondes = list(set(measure_df[\"numero\"]))\n",
    "print(len(sondes), \"sondes distinctes\")"
   ]
  },
  {
   "cell_type": "code",
   "execution_count": null,
   "id": "013f92a8-d6a0-444a-b5a6-bb5aa4232a36",
   "metadata": {},
   "outputs": [],
   "source": [
    "datetimes = list(set(measure_df[\"datetime\"]))\n",
    "print(len(datetimes), \"datetimes distincts\")\n",
    "trimesters = list(sorted(set(network_state_dict.keys()))\n",
    "print(trimesters)"
   ]
  },
  {
   "cell_type": "code",
   "execution_count": null,
   "id": "d5408f4c-03da-4e70-b160-e004899a785c",
   "metadata": {},
   "outputs": [],
   "source": [
    "activity_df = pd.DataFrame(columns=antennas, index=trimesters).fillna(0).astype(bool)\n",
    "activity_df"
   ]
  },
  {
   "cell_type": "code",
   "execution_count": null,
   "id": "3ecfe8d6-5880-44cb-aedf-1028fdd91a22",
   "metadata": {},
   "outputs": [],
   "source": [
    "for trimester in trimesters:\n",
    "    for antenna in antennas:\n",
    "        # print(list(network_state_dict[trimester][\"EMETTEUR ID\"]))\n",
    "        if antenna in list(network_state_dict[trimester][\"EMETTEUR ID\"]):\n",
    "            activity_df[antenna][trimester] = True\n",
    "activity_df"
   ]
  },
  {
   "cell_type": "code",
   "execution_count": null,
   "id": "d5809abd-fc6b-4d0a-a49a-81b71700ee9e",
   "metadata": {},
   "outputs": [],
   "source": [
    "activity_df_t = activity_df.transpose()\n",
    "activity_df_t"
   ]
  },
  {
   "cell_type": "code",
   "execution_count": null,
   "id": "729b3bfb-8bcb-4e08-8dc4-09946513d08a",
   "metadata": {},
   "outputs": [],
   "source": [
    "print(\"salut\")"
   ]
  },
  {
   "cell_type": "code",
   "execution_count": null,
   "id": "064910b6-0245-47af-b270-6da52fc667d7",
   "metadata": {},
   "outputs": [],
   "source": []
  },
  {
   "cell_type": "code",
   "execution_count": null,
   "id": "73dc470a-3a05-47a9-ac17-1eb528ebec3b",
   "metadata": {},
   "outputs": [],
   "source": []
  }
 ],
 "metadata": {
  "kernelspec": {
   "display_name": "Python 3 (ipykernel)",
   "language": "python",
   "name": "python3"
  },
  "language_info": {
   "codemirror_mode": {
    "name": "ipython",
    "version": 3
   },
   "file_extension": ".py",
   "mimetype": "text/x-python",
   "name": "python",
   "nbconvert_exporter": "python",
   "pygments_lexer": "ipython3",
   "version": "3.11.0"
  }
 },
 "nbformat": 4,
 "nbformat_minor": 5
}
